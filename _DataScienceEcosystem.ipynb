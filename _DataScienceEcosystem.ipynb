{
 "cells": [
  {
   "cell_type": "markdown",
   "id": "cbbd5243",
   "metadata": {},
   "source": []
  },
  {
   "cell_type": "markdown",
   "id": "d107f21e",
   "metadata": {},
   "source": [
    "# Data science Tools and Ecoszstem"
   ]
  },
  {
   "cell_type": "markdown",
   "id": "1f7864f5",
   "metadata": {},
   "source": [
    "In this notebook Data Science Tools and Ecoszstem are summarized "
   ]
  },
  {
   "cell_type": "markdown",
   "id": "8e9f0dda",
   "metadata": {},
   "source": [
    "Some of the popular languages that Data Scientist use are follow:\n",
    "   "
   ]
  },
  {
   "cell_type": "markdown",
   "id": "638df70e",
   "metadata": {},
   "source": [
    "1. PYTHON\n",
    "2. R language\n",
    "3. Scala"
   ]
  },
  {
   "cell_type": "markdown",
   "id": "db745a56",
   "metadata": {},
   "source": [
    "Some of the common libraries used by Data Scientists include :"
   ]
  },
  {
   "attachments": {},
   "cell_type": "markdown",
   "id": "1e3ece2f",
   "metadata": {},
   "source": [
    "- NumPy\n",
    "- Pandas \n",
    "- Matplotlib\n",
    "- Sci-kit learn"
   ]
  },
  {
   "cell_type": "markdown",
   "id": "c742696a",
   "metadata": {},
   "source": [
    "|Data Science Tools|\n",
    "|------------------|\n",
    "|Apache Spark|\n",
    "|Apache Hadoop|\n",
    "|jupyter Notebook|"
   ]
  },
  {
   "cell_type": "markdown",
   "id": "803e196f",
   "metadata": {},
   "source": [
    "### Below are the few examples of evaluating arithmetic expressions in Python"
   ]
  },
  {
   "cell_type": "markdown",
   "id": "098aebf3",
   "metadata": {},
   "source": [
    "\n",
    "##### this is a simple arithmetic expression to multiply and then add integers"
   ]
  },
  {
   "cell_type": "code",
   "execution_count": 4,
   "id": "517471d3",
   "metadata": {},
   "outputs": [
    {
     "data": {
      "text/plain": [
       "17"
      ]
     },
     "execution_count": 4,
     "metadata": {},
     "output_type": "execute_result"
    }
   ],
   "source": [
    "(3*4)+5"
   ]
  },
  {
   "cell_type": "markdown",
   "id": "bc1821b3",
   "metadata": {},
   "source": [
    "##### this will convert 200 minutes to hours dividing by 60"
   ]
  },
  {
   "cell_type": "code",
   "execution_count": 5,
   "id": "866a6c44",
   "metadata": {},
   "outputs": [
    {
     "data": {
      "text/plain": [
       "3.3333333333333335"
      ]
     },
     "execution_count": 5,
     "metadata": {},
     "output_type": "execute_result"
    }
   ],
   "source": [
    "200/60"
   ]
  },
  {
   "cell_type": "markdown",
   "id": "b2ad9d8c",
   "metadata": {},
   "source": [
    "# OBJECTIVES :-"
   ]
  },
  {
   "cell_type": "markdown",
   "id": "efef5041",
   "metadata": {},
   "source": [
    "* Data Science Tools\n",
    "* Libraries used by Data Scientists\n",
    "* Languages used for Data Scientists\n",
    "* Evaluating Arithmetic Expressions\n",
    "* Multiplying and adding Integers"
   ]
  },
  {
   "cell_type": "markdown",
   "id": "cdc2c50a",
   "metadata": {},
   "source": [
    "## Author"
   ]
  },
  {
   "cell_type": "markdown",
   "id": "8a752ca6",
   "metadata": {},
   "source": [
    "MUHAMMAD FAISAL"
   ]
  },
  {
   "cell_type": "markdown",
   "id": "d3181935",
   "metadata": {},
   "source": []
  }
 ],
 "metadata": {
  "kernelspec": {
   "display_name": "Python 3 (ipykernel)",
   "language": "python",
   "name": "python3"
  },
  "language_info": {
   "codemirror_mode": {
    "name": "ipython",
    "version": 3
   },
   "file_extension": ".py",
   "mimetype": "text/x-python",
   "name": "python",
   "nbconvert_exporter": "python",
   "pygments_lexer": "ipython3",
   "version": "3.11.5"
  }
 },
 "nbformat": 4,
 "nbformat_minor": 5
}
